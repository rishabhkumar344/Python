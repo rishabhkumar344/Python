{
 "cells": [
  {
   "cell_type": "code",
   "execution_count": 2,
   "id": "a296b808-f422-490b-9c91-6644aa4d16fc",
   "metadata": {},
   "outputs": [],
   "source": [
    "#Q1. Create one variable containing following type of data:\n",
    "#(i) string\n",
    "mystring=\"rishav\"\n"
   ]
  },
  {
   "cell_type": "code",
   "execution_count": 3,
   "id": "d3d64897-4fd9-4fba-a8ab-42f18b4bd9c2",
   "metadata": {},
   "outputs": [],
   "source": [
    "#(ii) list\n",
    "mylist=[2,3,4,5,\"stud\",True]\n",
    "#(iii) float\n",
    "myfloat= 24.5632\n",
    "#(iv) tuple\n",
    "mytuple=('apple','banana','grapes')"
   ]
  },
  {
   "cell_type": "code",
   "execution_count": 11,
   "id": "073d2601-62e6-4ec2-9b0e-df8b09c19008",
   "metadata": {},
   "outputs": [],
   "source": [
    "#Q2. Given are some following variables containing data:\n",
    "#What will be the data type of the above given variable.\n",
    "var1 = ' '"
   ]
  },
  {
   "cell_type": "code",
   "execution_count": 3,
   "id": "3a9e2c96-5966-486c-8efa-f3f569afac37",
   "metadata": {},
   "outputs": [
    {
     "data": {
      "text/plain": [
       "str"
      ]
     },
     "execution_count": 3,
     "metadata": {},
     "output_type": "execute_result"
    }
   ],
   "source": [
    "type(var1)"
   ]
  },
  {
   "cell_type": "code",
   "execution_count": 4,
   "id": "2647e3b8-cc47-4e48-849c-80958e9cf8e4",
   "metadata": {},
   "outputs": [],
   "source": [
    "var2='[ DS , ML , Python]'"
   ]
  },
  {
   "cell_type": "code",
   "execution_count": 5,
   "id": "8d74b0eb-2ea4-4af2-8a49-c412e17b75be",
   "metadata": {},
   "outputs": [
    {
     "data": {
      "text/plain": [
       "str"
      ]
     },
     "execution_count": 5,
     "metadata": {},
     "output_type": "execute_result"
    }
   ],
   "source": [
    "type(var2)"
   ]
  },
  {
   "cell_type": "code",
   "execution_count": 7,
   "id": "d48aca5b-c00d-4a92-9b97-df68606dca85",
   "metadata": {},
   "outputs": [],
   "source": [
    "var3=[ 'DS' , 'ML' , 'Python' ]"
   ]
  },
  {
   "cell_type": "code",
   "execution_count": 8,
   "id": "b98acb85-7791-494c-b413-122a15eaa672",
   "metadata": {},
   "outputs": [
    {
     "data": {
      "text/plain": [
       "list"
      ]
     },
     "execution_count": 8,
     "metadata": {},
     "output_type": "execute_result"
    }
   ],
   "source": [
    "type(var3)"
   ]
  },
  {
   "cell_type": "code",
   "execution_count": 9,
   "id": "8f09a072-5dd3-4d09-8c8c-463a690b42b3",
   "metadata": {},
   "outputs": [],
   "source": [
    "var4=1."
   ]
  },
  {
   "cell_type": "code",
   "execution_count": 10,
   "id": "ae85bce9-c826-4a91-92c5-47957a0be60b",
   "metadata": {},
   "outputs": [
    {
     "data": {
      "text/plain": [
       "float"
      ]
     },
     "execution_count": 10,
     "metadata": {},
     "output_type": "execute_result"
    }
   ],
   "source": [
    "type(var4)"
   ]
  },
  {
   "cell_type": "code",
   "execution_count": 23,
   "id": "549f72b8-31d8-444a-aab3-cba5fe48b0e4",
   "metadata": {},
   "outputs": [
    {
     "data": {
      "text/plain": [
       "15"
      ]
     },
     "execution_count": 23,
     "metadata": {},
     "output_type": "execute_result"
    }
   ],
   "source": [
    "#Q3. Explain the use of the following operators using an example:\n",
    "#(i) |\n",
    "11|6\n",
    "#This is bitwise or operator,it converts the decimal number into bits and then performs operations"
   ]
  },
  {
   "cell_type": "code",
   "execution_count": 22,
   "id": "552fb927-0a0a-423b-a00c-bdb0e8e48251",
   "metadata": {},
   "outputs": [
    {
     "data": {
      "text/plain": [
       "0"
      ]
     },
     "execution_count": 22,
     "metadata": {},
     "output_type": "execute_result"
    }
   ],
   "source": [
    "#(ii) %\n",
    "12%2\n",
    "#This is arthmetic operator,i.e,modulus"
   ]
  },
  {
   "cell_type": "code",
   "execution_count": 21,
   "id": "801b51d2-fb82-4ed4-8071-eab446944b4e",
   "metadata": {},
   "outputs": [
    {
     "data": {
      "text/plain": [
       "8"
      ]
     },
     "execution_count": 21,
     "metadata": {},
     "output_type": "execute_result"
    }
   ],
   "source": [
    "#(iv) **\n",
    "\n",
    "2**3\n",
    "#This is exponential operator"
   ]
  },
  {
   "cell_type": "code",
   "execution_count": 24,
   "id": "75dae58e-7c9c-448d-a290-0872da77f4ac",
   "metadata": {},
   "outputs": [],
   "source": [
    "#Q4. Create a list of length 10 of your choice containing multiple types of data. Using for loop print the\n",
    "# element and its data type."
   ]
  },
  {
   "cell_type": "code",
   "execution_count": 28,
   "id": "e8ee125f-f8c1-4a40-a74d-a3d28ecd1090",
   "metadata": {},
   "outputs": [],
   "source": [
    "mylist=[2,3,4,7,6,9,'apple','banana',23.46,True]"
   ]
  },
  {
   "cell_type": "code",
   "execution_count": 26,
   "id": "2fad5a9b-9744-4563-8a10-98db531e4d26",
   "metadata": {},
   "outputs": [
    {
     "name": "stdout",
     "output_type": "stream",
     "text": [
      "2\n",
      "<class 'int'>\n",
      "3\n",
      "<class 'int'>\n",
      "4\n",
      "<class 'int'>\n",
      "7\n",
      "<class 'int'>\n",
      "6\n",
      "<class 'int'>\n",
      "9\n",
      "<class 'int'>\n",
      "apple\n",
      "<class 'str'>\n",
      "banana\n",
      "<class 'str'>\n",
      "23.46\n",
      "<class 'float'>\n",
      "True\n",
      "<class 'bool'>\n"
     ]
    }
   ],
   "source": [
    "for i in mylist:\n",
    "    print(i)\n",
    "    print(type(i))"
   ]
  },
  {
   "cell_type": "code",
   "execution_count": 5,
   "id": "085bae31-e285-4592-af37-f22e146681bc",
   "metadata": {},
   "outputs": [
    {
     "name": "stdout",
     "output_type": "stream",
     "text": [
      "100 is divided by 5 , None times\n"
     ]
    }
   ],
   "source": [
    "#Q5. Using a while loop, verify if the number A is purely divisible by number B and if so then how many\n",
    "#times it can be divisible.\n",
    "def count_divisions(A,B):\n",
    "    count=0\n",
    "    while A % B==0:\n",
    "        A = A // B\n",
    "        count += 1\n",
    "#Example case \n",
    "A=100\n",
    "B=5\n",
    "Result= count_divisions(A,B)\n",
    "print(f'{A} is divided by {B} , {Result} times')\n"
   ]
  },
  {
   "cell_type": "code",
   "execution_count": 2,
   "id": "f9dcac75-3346-4ed5-9aa1-e6149de65973",
   "metadata": {},
   "outputs": [],
   "source": [
    "#Q6. Create a list containing 25 int type data. Using for loop and if-else condition print if the element is\n",
    "#divisible by 3 or not.\n"
   ]
  },
  {
   "cell_type": "code",
   "execution_count": 3,
   "id": "6d4a827d-24aa-4e1f-b88e-ed57d4ff5530",
   "metadata": {},
   "outputs": [
    {
     "name": "stdout",
     "output_type": "stream",
     "text": [
      "It is not divisible by 3\n",
      "It is not divisible by 3\n",
      "It is divisible by 3\n",
      "It is not divisible by 3\n",
      "It is not divisible by 3\n",
      "It is divisible by 3\n",
      "It is not divisible by 3\n",
      "It is not divisible by 3\n",
      "It is divisible by 3\n",
      "It is not divisible by 3\n",
      "It is not divisible by 3\n",
      "It is divisible by 3\n",
      "It is not divisible by 3\n",
      "It is not divisible by 3\n",
      "It is divisible by 3\n",
      "It is not divisible by 3\n",
      "It is not divisible by 3\n",
      "It is divisible by 3\n",
      "It is not divisible by 3\n",
      "It is not divisible by 3\n",
      "It is divisible by 3\n",
      "It is not divisible by 3\n",
      "It is not divisible by 3\n",
      "It is divisible by 3\n",
      "It is not divisible by 3\n"
     ]
    }
   ],
   "source": [
    "list=[1,2,3,4,5,6,7,8,9,10,11,12,13,14,15,16,17,18,19,20,21,22,23,24,25]\n",
    "for i in list:\n",
    "    if i%3==0:\n",
    "        print('It is divisible by 3')\n",
    "    else:\n",
    "              print('It is not divisible by 3')"
   ]
  },
  {
   "cell_type": "code",
   "execution_count": 4,
   "id": "dfa14478-827e-4f3f-b232-8b24136c11e4",
   "metadata": {},
   "outputs": [],
   "source": [
    "#Q7. What do you understand about mutable and immutable data types? Give examples for both showing\n",
    "#this property."
   ]
  },
  {
   "cell_type": "code",
   "execution_count": 5,
   "id": "8ce1344c-9929-4179-84c1-321721bda41a",
   "metadata": {},
   "outputs": [],
   "source": [
    "#Mutable objects:\n",
    "lists=[1,2,3,4,5,6]"
   ]
  },
  {
   "cell_type": "code",
   "execution_count": 6,
   "id": "ce81ea70-a3b9-4512-a3b2-b2a1b9728a8c",
   "metadata": {},
   "outputs": [
    {
     "data": {
      "text/plain": [
       "[1, 2, 3, 4, 5, 6]"
      ]
     },
     "execution_count": 6,
     "metadata": {},
     "output_type": "execute_result"
    }
   ],
   "source": [
    "lists"
   ]
  },
  {
   "cell_type": "code",
   "execution_count": 9,
   "id": "a69c461c-f4f4-4883-8da2-2aea7ea6489e",
   "metadata": {},
   "outputs": [],
   "source": [
    "lists[2]=8"
   ]
  },
  {
   "cell_type": "code",
   "execution_count": 12,
   "id": "5cfe7519-0aa1-4df7-ba4c-ee72bb3f542f",
   "metadata": {},
   "outputs": [
    {
     "data": {
      "text/plain": [
       "[1, 2, 8, 4, 5, 6]"
      ]
     },
     "execution_count": 12,
     "metadata": {},
     "output_type": "execute_result"
    }
   ],
   "source": [
    "lists\n",
    "#Here the element at a particular index changes,so list is a mutable object"
   ]
  },
  {
   "cell_type": "code",
   "execution_count": 13,
   "id": "276c8d25-ae66-4979-9db3-fd706079b8a6",
   "metadata": {},
   "outputs": [],
   "source": [
    "#Immutable object\n",
    "str=('apple')\n",
    "#Here,we cannot change the value at a particular index,so, strins are immutable objects "
   ]
  },
  {
   "cell_type": "code",
   "execution_count": null,
   "id": "883f6ac1-2dd4-46b0-923a-f6d6c32244fa",
   "metadata": {},
   "outputs": [],
   "source": []
  }
 ],
 "metadata": {
  "kernelspec": {
   "display_name": "Python 3 (ipykernel)",
   "language": "python",
   "name": "python3"
  },
  "language_info": {
   "codemirror_mode": {
    "name": "ipython",
    "version": 3
   },
   "file_extension": ".py",
   "mimetype": "text/x-python",
   "name": "python",
   "nbconvert_exporter": "python",
   "pygments_lexer": "ipython3",
   "version": "3.10.8"
  }
 },
 "nbformat": 4,
 "nbformat_minor": 5
}
